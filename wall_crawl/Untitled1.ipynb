{
 "metadata": {
  "name": "Untitled1"
 }, 
 "nbformat": 2, 
 "worksheets": [
  {
   "cells": [
    {
     "cell_type": "code", 
     "collapsed": true, 
     "input": [
      "from tester import tester1", 
      "import json"
     ], 
     "language": "python", 
     "outputs": [], 
     "prompt_number": 1
    }, 
    {
     "cell_type": "code", 
     "collapsed": false, 
     "input": [
      "resp, token, main_key = tester1()"
     ], 
     "language": "python", 
     "outputs": [
      {
       "output_type": "stream", 
       "stream": "stdout", 
       "text": [
        "4,42 already crawled", 
        "5,42 already crawled", 
        "5,618021 already crawled"
       ]
      }, 
      {
       "output_type": "stream", 
       "stream": "stdout", 
       "text": [
        "", 
        "5,4600060 already crawled"
       ]
      }, 
      {
       "output_type": "stream", 
       "stream": "stdout", 
       "text": [
        "", 
        "5,7611242 already crawled", 
        "6,42 already crawled"
       ]
      }, 
      {
       "output_type": "stream", 
       "stream": "stdout", 
       "text": [
        "", 
        "7,42 already crawled", 
        "11,42 already crawled"
       ]
      }, 
      {
       "output_type": "stream", 
       "stream": "stdout", 
       "text": [
        "", 
        "13,42 already crawled", 
        "26,42 already crawled"
       ]
      }, 
      {
       "output_type": "stream", 
       "stream": "stdout", 
       "text": [
        "", 
        "27,42 already crawled", 
        "29,42 already crawled"
       ]
      }, 
      {
       "output_type": "stream", 
       "stream": "stdout", 
       "text": [
        "", 
        "31,42 already crawled", 
        "33,42 already crawled"
       ]
      }, 
      {
       "output_type": "stream", 
       "stream": "stdout", 
       "text": [
        "", 
        "35,42 already crawled", 
        "36,42 already crawled"
       ]
      }, 
      {
       "output_type": "stream", 
       "stream": "stdout", 
       "text": [
        "", 
        "37,42 already crawled", 
        "41,42 already crawled"
       ]
      }, 
      {
       "output_type": "stream", 
       "stream": "stdout", 
       "text": [
        "", 
        "42,42 already crawled"
       ]
      }, 
      {
       "output_type": "stream", 
       "stream": "stdout", 
       "text": [
        "", 
        "42,4300275 already crawled", 
        "44,42 already crawled"
       ]
      }, 
      {
       "output_type": "stream", 
       "stream": "stdout", 
       "text": [
        "", 
        "46,42 already crawled", 
        "50,42 already crawled"
       ]
      }, 
      {
       "output_type": "stream", 
       "stream": "stdout", 
       "text": [
        "", 
        "51,42 already crawled", 
        "52,7179 already crawled"
       ]
      }, 
      {
       "output_type": "stream", 
       "stream": "stdout", 
       "text": [
        "", 
        "62,42 already crawled", 
        "64,42 already crawled"
       ]
      }, 
      {
       "output_type": "stream", 
       "stream": "stdout", 
       "text": [
        "", 
        "66,42 already crawled", 
        "69,42 already crawled"
       ]
      }, 
      {
       "output_type": "stream", 
       "stream": "stdout", 
       "text": [
        "", 
        "75,42 already crawled", 
        "79,42 already crawled"
       ]
      }, 
      {
       "output_type": "stream", 
       "stream": "stdout", 
       "text": [
        "", 
        "85,42 already crawled", 
        "87,42 already crawled"
       ]
      }, 
      {
       "output_type": "stream", 
       "stream": "stdout", 
       "text": [
        "", 
        "97,42 already crawled"
       ]
      }, 
      {
       "output_type": "stream", 
       "stream": "stdout", 
       "text": [
        "", 
        "100,7179 already crawled"
       ]
      }, 
      {
       "output_type": "stream", 
       "stream": "stdout", 
       "text": [
        "", 
        "102,42 already crawled", 
        "103,42 already crawled"
       ]
      }, 
      {
       "output_type": "stream", 
       "stream": "stdout", 
       "text": [
        "", 
        "116,42 already crawled", 
        "120,42 already crawled"
       ]
      }, 
      {
       "output_type": "stream", 
       "stream": "stdout", 
       "text": [
        "", 
        "130,42 already crawled"
       ]
      }, 
      {
       "output_type": "stream", 
       "stream": "stdout", 
       "text": [
        "", 
        "138,42 already crawled"
       ]
      }, 
      {
       "output_type": "stream", 
       "stream": "stdout", 
       "text": [
        "", 
        "139,42 already crawled"
       ]
      }, 
      {
       "output_type": "stream", 
       "stream": "stdout", 
       "text": [
        "", 
        "140,42 already crawled"
       ]
      }, 
      {
       "output_type": "stream", 
       "stream": "stdout", 
       "text": [
        "", 
        "145,7179 already crawled"
       ]
      }, 
      {
       "output_type": "stream", 
       "stream": "stdout", 
       "text": [
        "", 
        "147,42 already crawled", 
        "148,7179 already crawled"
       ]
      }, 
      {
       "output_type": "stream", 
       "stream": "stdout", 
       "text": [
        "", 
        "152,7179 already crawled"
       ]
      }, 
      {
       "output_type": "stream", 
       "stream": "stdout", 
       "text": [
        "", 
        "178,7179 already crawled"
       ]
      }, 
      {
       "output_type": "stream", 
       "stream": "stdout", 
       "text": [
        "", 
        "189,42 already crawled"
       ]
      }, 
      {
       "output_type": "stream", 
       "stream": "stdout", 
       "text": [
        "", 
        "194,42 already crawled"
       ]
      }, 
      {
       "output_type": "stream", 
       "stream": "stdout", 
       "text": [
        "", 
        "199,7179 already crawled", 
        "201,42 already crawled"
       ]
      }, 
      {
       "output_type": "stream", 
       "stream": "stdout", 
       "text": [
        "", 
        "209,7179 already crawled", 
        "212,7179 already crawled"
       ]
      }, 
      {
       "output_type": "stream", 
       "stream": "stdout", 
       "text": [
        "", 
        "228,42 already crawled"
       ]
      }, 
      {
       "output_type": "stream", 
       "stream": "stdout", 
       "text": [
        "", 
        "233,42 already crawled", 
        "254,41001999 already crawled"
       ]
      }, 
      {
       "output_type": "stream", 
       "stream": "stdout", 
       "text": [
        "", 
        "287,42 already crawled", 
        "298,7179 already crawled"
       ]
      }, 
      {
       "output_type": "stream", 
       "stream": "stdout", 
       "text": [
        "", 
        "321,847945226 already crawled"
       ]
      }, 
      {
       "output_type": "stream", 
       "stream": "stdout", 
       "text": [
        "", 
        "331,7179 already crawled"
       ]
      }, 
      {
       "output_type": "stream", 
       "stream": "stdout", 
       "text": [
        "", 
        "348,7179 already crawled", 
        "368,7179 already crawled"
       ]
      }, 
      {
       "output_type": "stream", 
       "stream": "stdout", 
       "text": [
        "", 
        "368,558988317 already crawled"
       ]
      }, 
      {
       "output_type": "stream", 
       "stream": "stdout", 
       "text": [
        "", 
        "375,33500321 already crawled", 
        "380,7179 already crawled"
       ]
      }, 
      {
       "output_type": "stream", 
       "stream": "stdout", 
       "text": [
        "", 
        "384,42 already crawled"
       ]
      }, 
      {
       "output_type": "stream", 
       "stream": "stdout", 
       "text": [
        "", 
        "386,7179 already crawled"
       ]
      }, 
      {
       "output_type": "stream", 
       "stream": "stdout", 
       "text": [
        "", 
        "400,7179 already crawled"
       ]
      }, 
      {
       "output_type": "stream", 
       "stream": "stdout", 
       "text": [
        "", 
        "410,42 already crawled"
       ]
      }, 
      {
       "output_type": "stream", 
       "stream": "stdout", 
       "text": [
        "", 
        "427,7179 already crawled", 
        "430,7179 already crawled"
       ]
      }, 
      {
       "output_type": "stream", 
       "stream": "stdout", 
       "text": [
        "", 
        "471,7179 already crawled", 
        "474,42 already crawled"
       ]
      }, 
      {
       "output_type": "stream", 
       "stream": "stdout", 
       "text": [
        "", 
        "493,42 already crawled"
       ]
      }, 
      {
       "output_type": "stream", 
       "stream": "stdout", 
       "text": [
        "", 
        "493,7179 already crawled"
       ]
      }, 
      {
       "output_type": "stream", 
       "stream": "stdout", 
       "text": [
        "", 
        "501,7179 already crawled"
       ]
      }, 
      {
       "output_type": "stream", 
       "stream": "stdout", 
       "text": [
        "", 
        "505,42 already crawled"
       ]
      }, 
      {
       "output_type": "stream", 
       "stream": "stdout", 
       "text": [
        "", 
        "509,42 already crawled"
       ]
      }, 
      {
       "output_type": "stream", 
       "stream": "stdout", 
       "text": [
        "", 
        "520,7179 already crawled"
       ]
      }, 
      {
       "output_type": "stream", 
       "stream": "stdout", 
       "text": [
        "", 
        "527,7179 already crawled", 
        "528,42 already crawled"
       ]
      }, 
      {
       "output_type": "stream", 
       "stream": "stdout", 
       "text": [
        "", 
        "529,42 already crawled"
       ]
      }, 
      {
       "output_type": "stream", 
       "stream": "stdout", 
       "text": [
        "", 
        "530,8347 already crawled"
       ]
      }, 
      {
       "output_type": "stream", 
       "stream": "stdout", 
       "text": [
        "", 
        "542,42 already crawled"
       ]
      }, 
      {
       "output_type": "stream", 
       "stream": "stdout", 
       "text": [
        "", 
        "543,42 already crawled"
       ]
      }, 
      {
       "output_type": "stream", 
       "stream": "stdout", 
       "text": [
        "", 
        "543,8347 already crawled"
       ]
      }, 
      {
       "output_type": "stream", 
       "stream": "stdout", 
       "text": [
        "", 
        "546,42 already crawled"
       ]
      }, 
      {
       "output_type": "stream", 
       "stream": "stdout", 
       "text": [
        "", 
        "550,42 already crawled"
       ]
      }, 
      {
       "output_type": "stream", 
       "stream": "stdout", 
       "text": [
        "", 
        "555,42 already crawled", 
        "578,7179 already crawled"
       ]
      }, 
      {
       "output_type": "stream", 
       "stream": "stdout", 
       "text": [
        "", 
        "600,42 already crawled"
       ]
      }, 
      {
       "output_type": "stream", 
       "stream": "stdout", 
       "text": [
        "", 
        "600,7179 already crawled", 
        "613,42 already crawled"
       ]
      }, 
      {
       "output_type": "stream", 
       "stream": "stdout", 
       "text": [
        "", 
        "617,42 already crawled"
       ]
      }, 
      {
       "output_type": "stream", 
       "stream": "stdout", 
       "text": [
        "", 
        "617,7179 already crawled"
       ]
      }, 
      {
       "output_type": "stream", 
       "stream": "stdout", 
       "text": [
        "", 
        "648,7179 already crawled", 
        "655,42 already crawled"
       ]
      }, 
      {
       "output_type": "stream", 
       "stream": "stdout", 
       "text": [
        "", 
        "658,7179 already crawled"
       ]
      }, 
      {
       "output_type": "stream", 
       "stream": "stdout", 
       "text": [
        "", 
        "666,42 already crawled", 
        "671,42 already crawled"
       ]
      }, 
      {
       "output_type": "stream", 
       "stream": "stdout", 
       "text": [
        "", 
        "673,7179 already crawled"
       ]
      }, 
      {
       "output_type": "stream", 
       "stream": "stdout", 
       "text": [
        "681,7179 already crawled", 
        "684,4600060 already crawled"
       ]
      }, 
      {
       "output_type": "stream", 
       "stream": "stdout", 
       "text": [
        "", 
        "687,42 already crawled"
       ]
      }, 
      {
       "output_type": "stream", 
       "stream": "stdout", 
       "text": [
        "", 
        "703,42 already crawled"
       ]
      }, 
      {
       "output_type": "stream", 
       "stream": "stdout", 
       "text": [
        "", 
        "703,8347 already crawled"
       ]
      }, 
      {
       "output_type": "stream", 
       "stream": "stdout", 
       "text": [
        "", 
        "705,7179 already crawled"
       ]
      }, 
      {
       "output_type": "stream", 
       "stream": "stdout", 
       "text": [
        "", 
        "732,42 already crawled"
       ]
      }, 
      {
       "output_type": "stream", 
       "stream": "stdout", 
       "text": [
        "", 
        "745,42 already crawled", 
        "761,7179 already crawled"
       ]
      }, 
      {
       "output_type": "stream", 
       "stream": "stdout", 
       "text": [
        "", 
        "771,1474675343 already crawled"
       ]
      }, 
      {
       "output_type": "stream", 
       "stream": "stdout", 
       "text": [
        "", 
        "771,1498533170 already crawled"
       ]
      }, 
      {
       "output_type": "stream", 
       "stream": "stdout", 
       "text": [
        "", 
        "789,42 already crawled"
       ]
      }, 
      {
       "output_type": "stream", 
       "stream": "stdout", 
       "text": [
        "", 
        "796,42 already crawled"
       ]
      }, 
      {
       "output_type": "stream", 
       "stream": "stdout", 
       "text": [
        "", 
        "818,42 already crawled"
       ]
      }, 
      {
       "output_type": "stream", 
       "stream": "stdout", 
       "text": [
        "", 
        "822,529849405 already crawled"
       ]
      }, 
      {
       "output_type": "stream", 
       "stream": "stdout", 
       "text": [
        "", 
        "828,42 already crawled"
       ]
      }, 
      {
       "output_type": "stream", 
       "stream": "stdout", 
       "text": [
        "", 
        "832,7179 already crawled"
       ]
      }, 
      {
       "output_type": "stream", 
       "stream": "stdout", 
       "text": [
        "", 
        "846,42 already crawled"
       ]
      }, 
      {
       "output_type": "stream", 
       "stream": "stdout", 
       "text": [
        "", 
        "850,42 already crawled"
       ]
      }, 
      {
       "output_type": "stream", 
       "stream": "stdout", 
       "text": [
        "", 
        "852,42 already crawled"
       ]
      }, 
      {
       "output_type": "stream", 
       "stream": "stdout", 
       "text": [
        "", 
        "855,42 already crawled"
       ]
      }, 
      {
       "output_type": "stream", 
       "stream": "stdout", 
       "text": [
        "", 
        "861,42 already crawled"
       ]
      }, 
      {
       "output_type": "stream", 
       "stream": "stdout", 
       "text": [
        "", 
        "877,42 already crawled"
       ]
      }, 
      {
       "output_type": "stream", 
       "stream": "stdout", 
       "text": [
        "", 
        "881,4600060 already crawled"
       ]
      }, 
      {
       "output_type": "stream", 
       "stream": "stdout", 
       "text": [
        "", 
        "882,42 already crawled"
       ]
      }, 
      {
       "output_type": "stream", 
       "stream": "stdout", 
       "text": [
        "", 
        "882,22906062 already crawled"
       ]
      }, 
      {
       "output_type": "stream", 
       "stream": "stdout", 
       "text": [
        "", 
        "887,7179 already crawled"
       ]
      }, 
      {
       "output_type": "stream", 
       "stream": "stdout", 
       "text": [
        "", 
        "888,33500321 already crawled", 
        "902,42 already crawled"
       ]
      }, 
      {
       "output_type": "stream", 
       "stream": "stdout", 
       "text": [
        "", 
        "912,7179 already crawled", 
        "975,42 already crawled"
       ]
      }, 
      {
       "output_type": "stream", 
       "stream": "stdout", 
       "text": [
        "", 
        "982,42 already crawled"
       ]
      }, 
      {
       "output_type": "stream", 
       "stream": "stdout", 
       "text": [
        "", 
        "1004,7179 already crawled", 
        "1005,42 already crawled"
       ]
      }, 
      {
       "output_type": "stream", 
       "stream": "stdout", 
       "text": [
        "", 
        "1014,7179 already crawled", 
        "1021,42 already crawled"
       ]
      }, 
      {
       "output_type": "stream", 
       "stream": "stdout", 
       "text": [
        "", 
        "1029,1233870226 already crawled", 
        "1034,42 already crawled"
       ]
      }, 
      {
       "output_type": "stream", 
       "stream": "stdout", 
       "text": [
        "", 
        "1037,42 already crawled", 
        "1039,42 already crawled"
       ]
      }, 
      {
       "output_type": "stream", 
       "stream": "stdout", 
       "text": [
        "", 
        "1045,42 already crawled", 
        "1058,42 already crawled"
       ]
      }, 
      {
       "output_type": "stream", 
       "stream": "stdout", 
       "text": [
        "", 
        "1058,46300633 already crawled", 
        "1074,42 already crawled"
       ]
      }, 
      {
       "output_type": "stream", 
       "stream": "stdout", 
       "text": [
        "", 
        "1075,7179 already crawled", 
        "1077,42 already crawled"
       ]
      }, 
      {
       "output_type": "stream", 
       "stream": "stdout", 
       "text": [
        "", 
        "1080,7179 already crawled", 
        "1092,42 already crawled"
       ]
      }, 
      {
       "output_type": "stream", 
       "stream": "stdout", 
       "text": [
        "", 
        "1093,7179 already crawled", 
        "1104,7179 already crawled"
       ]
      }, 
      {
       "output_type": "stream", 
       "stream": "stdout", 
       "text": [
        "", 
        "1114,42 already crawled"
       ]
      }, 
      {
       "output_type": "stream", 
       "stream": "stdout", 
       "text": [
        "", 
        "1120,7179 already crawled"
       ]
      }, 
      {
       "output_type": "stream", 
       "stream": "stdout", 
       "text": [
        "", 
        "1125,42 already crawled", 
        "1144,558988317 already crawled"
       ]
      }, 
      {
       "output_type": "stream", 
       "stream": "stdout", 
       "text": [
        "", 
        "1160,42 already crawled"
       ]
      }, 
      {
       "output_type": "stream", 
       "stream": "stdout", 
       "text": [
        "", 
        "1161,7179 already crawled", 
        "1171,7179 already crawled"
       ]
      }, 
      {
       "output_type": "stream", 
       "stream": "stdout", 
       "text": [
        "", 
        "1179,42 already crawled"
       ]
      }, 
      {
       "output_type": "stream", 
       "stream": "stdout", 
       "text": [
        "", 
        "1182,7179 already crawled", 
        "1198,42 already crawled"
       ]
      }, 
      {
       "output_type": "stream", 
       "stream": "stdout", 
       "text": [
        "", 
        "1205,42 already crawled", 
        "1224,42 already crawled"
       ]
      }, 
      {
       "output_type": "stream", 
       "stream": "stdout", 
       "text": [
        "", 
        "1232,42 already crawled"
       ]
      }, 
      {
       "output_type": "stream", 
       "stream": "stdout", 
       "text": [
        "", 
        "1247,8347 already crawled"
       ]
      }, 
      {
       "output_type": "stream", 
       "stream": "stdout", 
       "text": [
        "", 
        "1259,4600060 already crawled"
       ]
      }, 
      {
       "output_type": "stream", 
       "stream": "stdout", 
       "text": [
        "", 
        "1263,7179 already crawled"
       ]
      }, 
      {
       "output_type": "stream", 
       "stream": "stdout", 
       "text": [
        "", 
        "1278,7179 already crawled", 
        "1302,42 already crawled"
       ]
      }, 
      {
       "output_type": "stream", 
       "stream": "stdout", 
       "text": [
        "", 
        "1302,7179 already crawled"
       ]
      }, 
      {
       "output_type": "stream", 
       "stream": "stdout", 
       "text": [
        "", 
        "1307,42 already crawled", 
        "1309,42 already crawled"
       ]
      }, 
      {
       "output_type": "stream", 
       "stream": "stdout", 
       "text": [
        "", 
        "1315,33500321 already crawled", 
        "1324,8347 already crawled"
       ]
      }, 
      {
       "output_type": "stream", 
       "stream": "stdout", 
       "text": [
        "", 
        "1330,7179 already crawled"
       ]
      }, 
      {
       "output_type": "stream", 
       "stream": "stdout", 
       "text": [
        "", 
        "1331,7179 already crawled", 
        "1333,46300633 already crawled"
       ]
      }, 
      {
       "output_type": "stream", 
       "stream": "stdout", 
       "text": [
        "", 
        "1378,847945226 already crawled", 
        "1408,42 already crawled"
       ]
      }, 
      {
       "output_type": "stream", 
       "stream": "stdout", 
       "text": [
        "", 
        "1411,42 already crawled", 
        "1448,42 already crawled"
       ]
      }, 
      {
       "output_type": "stream", 
       "stream": "stdout", 
       "text": [
        "", 
        "1453,42 already crawled", 
        "1456,42 already crawled"
       ]
      }, 
      {
       "output_type": "stream", 
       "stream": "stdout", 
       "text": [
        "", 
        "1506,46300633 already crawled", 
        "1531,42 already crawled"
       ]
      }, 
      {
       "output_type": "stream", 
       "stream": "stdout", 
       "text": [
        "", 
        "1554,7179 already crawled", 
        "1576,8347 already crawled"
       ]
      }, 
      {
       "output_type": "stream", 
       "stream": "stdout", 
       "text": [
        "", 
        "1625,42 already crawled", 
        "1636,7179 already crawled"
       ]
      }, 
      {
       "output_type": "stream", 
       "stream": "stdout", 
       "text": [
        "", 
        "1668,8347 already crawled", 
        "1681,42 already crawled"
       ]
      }, 
      {
       "output_type": "stream", 
       "stream": "stdout", 
       "text": [
        "", 
        "1684,42 already crawled", 
        "1714,42 already crawled"
       ]
      }, 
      {
       "output_type": "stream", 
       "stream": "stdout", 
       "text": [
        "", 
        "1741,500454643 already crawled", 
        "1741,603481054 already crawled"
       ]
      }, 
      {
       "output_type": "stream", 
       "stream": "stdout", 
       "text": [
        "", 
        "1741,847945226 already crawled", 
        "1745,46300633 already crawled"
       ]
      }, 
      {
       "output_type": "stream", 
       "stream": "stdout", 
       "text": [
        "", 
        "1752,7179 already crawled", 
        "1777,42 already crawled"
       ]
      }, 
      {
       "output_type": "stream", 
       "stream": "stdout", 
       "text": [
        "", 
        "1800,7179 already crawled", 
        "1859,8347 already crawled"
       ]
      }, 
      {
       "output_type": "stream", 
       "stream": "stdout", 
       "text": [
        "", 
        "1866,42 already crawled", 
        "1874,7179 already crawled"
       ]
      }, 
      {
       "output_type": "stream", 
       "stream": "stdout", 
       "text": [
        "", 
        "1886,42 already crawled", 
        "1909,42 already crawled"
       ]
      }, 
      {
       "output_type": "stream", 
       "stream": "stdout", 
       "text": [
        "", 
        "1914,42 already crawled", 
        "1933,7179 already crawled"
       ]
      }, 
      {
       "output_type": "stream", 
       "stream": "stdout", 
       "text": [
        "", 
        "1934,8347 already crawled", 
        "1946,8347 already crawled"
       ]
      }, 
      {
       "output_type": "stream", 
       "stream": "stdout", 
       "text": [
        "", 
        "1960,42 already crawled", 
        "1975,42 already crawled"
       ]
      }, 
      {
       "output_type": "stream", 
       "stream": "stdout", 
       "text": [
        "", 
        "1993,46300633 already crawled", 
        "2019,42 already crawled"
       ]
      }, 
      {
       "output_type": "stream", 
       "stream": "stdout", 
       "text": [
        "", 
        "2023,42 already crawled", 
        "2023,8347 already crawled"
       ]
      }, 
      {
       "output_type": "stream", 
       "stream": "stdout", 
       "text": [
        "", 
        "2030,42 already crawled", 
        "2033,42 already crawled"
       ]
      }, 
      {
       "output_type": "stream", 
       "stream": "stdout", 
       "text": [
        "", 
        "2033,4600060 already crawled", 
        "2055,42 already crawled"
       ]
      }, 
      {
       "output_type": "stream", 
       "stream": "stdout", 
       "text": [
        "", 
        "2061,4401359 already crawled", 
        "2073,42 already crawled"
       ]
      }, 
      {
       "output_type": "stream", 
       "stream": "stdout", 
       "text": [
        "", 
        "2121,7179 already crawled", 
        "2141,42 already crawled"
       ]
      }, 
      {
       "output_type": "stream", 
       "stream": "stdout", 
       "text": [
        "", 
        "2142,1109183 already crawled"
       ]
      }, 
      {
       "output_type": "stream", 
       "stream": "stdout", 
       "text": [
        "", 
        "2145,42 already crawled", 
        "2153,42 already crawled"
       ]
      }, 
      {
       "output_type": "stream", 
       "stream": "stdout", 
       "text": [
        "", 
        "2185,18101654 already crawled", 
        "2223,7179 already crawled"
       ]
      }, 
      {
       "output_type": "stream", 
       "stream": "stdout", 
       "text": [
        "", 
        "2227,8347 already crawled", 
        "2229,42 already crawled"
       ]
      }, 
      {
       "output_type": "stream", 
       "stream": "stdout", 
       "text": [
        "", 
        "2229,7179 already crawled", 
        "2229,8347 already crawled"
       ]
      }, 
      {
       "output_type": "stream", 
       "stream": "stdout", 
       "text": [
        "", 
        "2230,42 already crawled", 
        "2230,22906062 already crawled"
       ]
      }, 
      {
       "output_type": "stream", 
       "stream": "stdout", 
       "text": [
        "", 
        "2230,46300633 already crawled"
       ]
      }, 
      {
       "output_type": "stream", 
       "stream": "stdout", 
       "text": [
        "", 
        "2230,500876410 already crawled"
       ]
      }, 
      {
       "output_type": "stream", 
       "stream": "stdout", 
       "text": [
        "", 
        "2234,42 already crawled", 
        "2242,22906062 already crawled"
       ]
      }, 
      {
       "output_type": "stream", 
       "stream": "stdout", 
       "text": [
        "", 
        "2244,4600060 already crawled", 
        "2244,46300633 already crawled"
       ]
      }, 
      {
       "output_type": "stream", 
       "stream": "stdout", 
       "text": [
        "", 
        "2251,42 already crawled", 
        "2258,42 already crawled"
       ]
      }, 
      {
       "output_type": "stream", 
       "stream": "stdout", 
       "text": [
        "", 
        "2269,42 already crawled", 
        "2269,7179 already crawled"
       ]
      }, 
      {
       "output_type": "stream", 
       "stream": "stdout", 
       "text": [
        "", 
        "2273,4401359 already crawled", 
        "2279,4401359 already crawled"
       ]
      }, 
      {
       "output_type": "stream", 
       "stream": "stdout", 
       "text": [
        "", 
        "2279,5300890 already crawled", 
        "2279,500876410 already crawled"
       ]
      }, 
      {
       "output_type": "stream", 
       "stream": "stdout", 
       "text": [
        "", 
        "2301,7179 already crawled", 
        "2326,20005442 already crawled"
       ]
      }, 
      {
       "output_type": "stream", 
       "stream": "stdout", 
       "text": [
        "", 
        "2369,42 already crawled", 
        "2375,42 already crawled"
       ]
      }, 
      {
       "output_type": "stream", 
       "stream": "stdout", 
       "text": [
        "", 
        "2377,8347 already crawled", 
        "2397,42 already crawled"
       ]
      }, 
      {
       "output_type": "stream", 
       "stream": "stdout", 
       "text": [
        "", 
        "2397,8347 already crawled", 
        "2404,42 already crawled"
       ]
      }, 
      {
       "output_type": "stream", 
       "stream": "stdout", 
       "text": [
        "", 
        "2437,7179 already crawled", 
        "2447,7179 already crawled"
       ]
      }, 
      {
       "output_type": "stream", 
       "stream": "stdout", 
       "text": [
        "", 
        "2457,7179 already crawled"
       ]
      }, 
      {
       "output_type": "stream", 
       "stream": "stdout", 
       "text": [
        "", 
        "2458,18101654 already crawled"
       ]
      }, 
      {
       "output_type": "stream", 
       "stream": "stdout", 
       "text": [
        "", 
        "2462,42 already crawled", 
        "2468,7179 already crawled"
       ]
      }, 
      {
       "output_type": "stream", 
       "stream": "stdout", 
       "text": [
        "", 
        "2474,42 already crawled"
       ]
      }, 
      {
       "output_type": "stream", 
       "stream": "stdout", 
       "text": [
        "", 
        "2482,7179 already crawled"
       ]
      }, 
      {
       "output_type": "stream", 
       "stream": "stdout", 
       "text": [
        "", 
        "2485,42 already crawled", 
        "2495,7179 already crawled"
       ]
      }, 
      {
       "output_type": "stream", 
       "stream": "stdout", 
       "text": [
        "", 
        "2500,42 already crawled", 
        "2512,42 already crawled"
       ]
      }, 
      {
       "output_type": "stream", 
       "stream": "stdout", 
       "text": [
        "", 
        "2520,7179 already crawled", 
        "2525,42 already crawled"
       ]
      }, 
      {
       "output_type": "stream", 
       "stream": "stdout", 
       "text": [
        "", 
        "2533,42 already crawled", 
        "2551,42 already crawled"
       ]
      }, 
      {
       "output_type": "stream", 
       "stream": "stdout", 
       "text": [
        "", 
        "2554,1092540035 already crawled", 
        "2589,42 already crawled"
       ]
      }, 
      {
       "output_type": "stream", 
       "stream": "stdout", 
       "text": [
        "", 
        "2591,7179 already crawled", 
        "2609,42 already crawled"
       ]
      }, 
      {
       "output_type": "stream", 
       "stream": "stdout", 
       "text": [
        "", 
        "2620,7179 already crawled", 
        "2636,7179 already crawled"
       ]
      }, 
      {
       "output_type": "stream", 
       "stream": "stdout", 
       "text": [
        "", 
        "2638,1109183 already crawled", 
        "2646,7179 already crawled"
       ]
      }, 
      {
       "output_type": "stream", 
       "stream": "stdout", 
       "text": [
        "", 
        "2657,506423507 already crawled", 
        "2667,3801065 already crawled"
       ]
      }, 
      {
       "output_type": "stream", 
       "stream": "stdout", 
       "text": [
        "", 
        "2683,8347 already crawled"
       ]
      }, 
      {
       "output_type": "stream", 
       "stream": "stdout", 
       "text": [
        "", 
        "2684,42 already crawled", 
        "2685,8347 already crawled"
       ]
      }, 
      {
       "output_type": "stream", 
       "stream": "stdout", 
       "text": [
        "", 
        "2692,42 already crawled", 
        "2694,42 already crawled"
       ]
      }, 
      {
       "output_type": "stream", 
       "stream": "stdout", 
       "text": [
        "", 
        "2739,7179 already crawled", 
        "2755,7179 already crawled"
       ]
      }, 
      {
       "output_type": "stream", 
       "stream": "stdout", 
       "text": [
        "", 
        "2759,7179 already crawled", 
        "2765,7179 already crawled"
       ]
      }, 
      {
       "output_type": "stream", 
       "stream": "stdout", 
       "text": [
        "", 
        "2767,42 already crawled", 
        "2769,8347 already crawled"
       ]
      }, 
      {
       "output_type": "stream", 
       "stream": "stdout", 
       "text": [
        "", 
        "2780,42 already crawled", 
        "2784,8347 already crawled"
       ]
      }, 
      {
       "output_type": "stream", 
       "stream": "stdout", 
       "text": [
        "", 
        "2786,500454643 already crawled", 
        "2790,42 already crawled"
       ]
      }, 
      {
       "output_type": "stream", 
       "stream": "stdout", 
       "text": [
        "", 
        "2792,7179 already crawled", 
        "2815,42 already crawled"
       ]
      }, 
      {
       "output_type": "stream", 
       "stream": "stdout", 
       "text": [
        "", 
        "2835,42 already crawled", 
        "2835,8347 already crawled"
       ]
      }, 
      {
       "output_type": "stream", 
       "stream": "stdout", 
       "text": [
        "", 
        "2835,1410079 already crawled", 
        "2835,4600060 already crawled"
       ]
      }, 
      {
       "output_type": "stream", 
       "stream": "stdout", 
       "text": [
        "", 
        "2835,5305870 already crawled", 
        "2835,7413781 already crawled"
       ]
      }, 
      {
       "output_type": "stream", 
       "stream": "stdout", 
       "text": [
        "", 
        "2835,500454643 already crawled", 
        "2835,506423507 already crawled"
       ]
      }, 
      {
       "output_type": "stream", 
       "stream": "stdout", 
       "text": [
        "", 
        "2837,42 already crawled", 
        "2844,7179 already crawled"
       ]
      }, 
      {
       "output_type": "stream", 
       "stream": "stdout", 
       "text": [
        "", 
        "2850,1109183 already crawled", 
        "2884,42 already crawled"
       ]
      }, 
      {
       "output_type": "stream", 
       "stream": "stdout", 
       "text": [
        "", 
        "2931,42 already crawled", 
        "2931,7179 already crawled"
       ]
      }, 
      {
       "output_type": "stream", 
       "stream": "stdout", 
       "text": [
        "", 
        "2942,42 already crawled", 
        "2942,7179 already crawled"
       ]
      }, 
      {
       "output_type": "stream", 
       "stream": "stdout", 
       "text": [
        "", 
        "2955,7179 already crawled", 
        "2989,42 already crawled"
       ]
      }, 
      {
       "output_type": "stream", 
       "stream": "stdout", 
       "text": [
        "", 
        "3005,42 already crawled", 
        "3005,7179 already crawled"
       ]
      }, 
      {
       "output_type": "stream", 
       "stream": "stdout", 
       "text": [
        "", 
        "3022,42 already crawled", 
        "3071,46300633 already crawled"
       ]
      }, 
      {
       "output_type": "stream", 
       "stream": "stdout", 
       "text": [
        "", 
        "3093,7179 already crawled", 
        "3105,42 already crawled"
       ]
      }, 
      {
       "output_type": "stream", 
       "stream": "stdout", 
       "text": [
        "", 
        "3136,7179 already crawled", 
        "3154,42 already crawled"
       ]
      }, 
      {
       "output_type": "stream", 
       "stream": "stdout", 
       "text": [
        "", 
        "3154,618021 already crawled"
       ]
      }, 
      {
       "output_type": "stream", 
       "stream": "stdout", 
       "text": [
        "", 
        "3154,22906062 already crawled", 
        "3154,219701066 already crawled"
       ]
      }, 
      {
       "output_type": "stream", 
       "stream": "stdout", 
       "text": [
        "", 
        "3165,7413781 already crawled", 
        "3180,42 already crawled"
       ]
      }, 
      {
       "output_type": "stream", 
       "stream": "stdout", 
       "text": [
        "", 
        "3195,42 already crawled"
       ]
      }, 
      {
       "output_type": "stream", 
       "stream": "stdout", 
       "text": [
        "", 
        "3248,42 already crawled", 
        "3276,42 already crawled"
       ]
      }, 
      {
       "output_type": "stream", 
       "stream": "stdout", 
       "text": [
        "", 
        "3297,7179 already crawled"
       ]
      }, 
      {
       "output_type": "stream", 
       "stream": "stdout", 
       "text": [
        "", 
        "3322,42 already crawled"
       ]
      }, 
      {
       "output_type": "stream", 
       "stream": "stdout", 
       "text": [
        "", 
        "3344,8347 already crawled", 
        "3358,1410079 already crawled"
       ]
      }, 
      {
       "output_type": "stream", 
       "stream": "stdout", 
       "text": [
        "", 
        "3388,42 already crawled", 
        "3395,847945226 already crawled"
       ]
      }, 
      {
       "output_type": "stream", 
       "stream": "stdout", 
       "text": [
        "", 
        "3403,42 already crawled"
       ]
      }, 
      {
       "output_type": "stream", 
       "stream": "stdout", 
       "text": [
        "", 
        "3411,42 already crawled", 
        "3414,42 already crawled"
       ]
      }, 
      {
       "output_type": "stream", 
       "stream": "stdout", 
       "text": [
        "", 
        "3451,42 already crawled", 
        "3456,42 already crawled"
       ]
      }, 
      {
       "output_type": "stream", 
       "stream": "stdout", 
       "text": [
        "", 
        "3465,42 already crawled"
       ]
      }, 
      {
       "output_type": "stream", 
       "stream": "stdout", 
       "text": [
        "", 
        "3470,42 already crawled", 
        "3500,18101654 already crawled"
       ]
      }, 
      {
       "output_type": "stream", 
       "stream": "stdout", 
       "text": [
        "", 
        "3522,4600060 already crawled", 
        "3544,7179 already crawled"
       ]
      }, 
      {
       "output_type": "stream", 
       "stream": "stdout", 
       "text": [
        "", 
        "3546,8347 already crawled"
       ]
      }, 
      {
       "output_type": "stream", 
       "stream": "stdout", 
       "text": [
        "", 
        "3567,42 already crawled", 
        "3567,8347 already crawled"
       ]
      }, 
      {
       "output_type": "stream", 
       "stream": "stdout", 
       "text": [
        "", 
        "3593,1116000666 already crawled", 
        "3595,7179 already crawled"
       ]
      }, 
      {
       "output_type": "stream", 
       "stream": "stdout", 
       "text": [
        "", 
        "3599,42 already crawled"
       ]
      }, 
      {
       "output_type": "stream", 
       "stream": "stdout", 
       "text": [
        "", 
        "3599,7413781 already crawled", 
        "3599,847945226 already crawled"
       ]
      }, 
      {
       "output_type": "stream", 
       "stream": "stdout", 
       "text": [
        "", 
        "3599,1115786309 already crawled"
       ]
      }, 
      {
       "output_type": "stream", 
       "stream": "stdout", 
       "text": [
        "", 
        "3600,42 already crawled"
       ]
      }, 
      {
       "output_type": "stream", 
       "stream": "stdout", 
       "text": [
        "", 
        "3607,42 already crawled", 
        "3610,42 already crawled"
       ]
      }, 
      {
       "output_type": "stream", 
       "stream": "stdout", 
       "text": [
        "", 
        "3610,7179 already crawled", 
        "3626,42 already crawled"
       ]
      }, 
      {
       "output_type": "stream", 
       "stream": "stdout", 
       "text": [
        "", 
        "3628,42 already crawled", 
        "3630,7179 already crawled"
       ]
      }, 
      {
       "output_type": "stream", 
       "stream": "stdout", 
       "text": [
        "", 
        "3644,42 already crawled"
       ]
      }, 
      {
       "output_type": "stream", 
       "stream": "stdout", 
       "text": [
        "", 
        "3669,7179 already crawled", 
        "3676,42 already crawled"
       ]
      }, 
      {
       "output_type": "stream", 
       "stream": "stdout", 
       "text": [
        "", 
        "3690,42 already crawled"
       ]
      }, 
      {
       "output_type": "stream", 
       "stream": "stdout", 
       "text": [
        "", 
        "3690,7179 already crawled", 
        "3690,8347 already crawled"
       ]
      }, 
      {
       "output_type": "stream", 
       "stream": "stdout", 
       "text": [
        "", 
        "3690,9901014 already crawled", 
        "3702,42 already crawled"
       ]
      }, 
      {
       "output_type": "stream", 
       "stream": "stdout", 
       "text": [
        "", 
        "3713,42 already crawled", 
        "3743,7179 already crawled"
       ]
      }, 
      {
       "output_type": "stream", 
       "stream": "stdout", 
       "text": [
        "", 
        "3746,42 already crawled", 
        "3760,7179 already crawled"
       ]
      }, 
      {
       "output_type": "stream", 
       "stream": "stdout", 
       "text": [
        "", 
        "3768,7413781 already crawled"
       ]
      }, 
      {
       "output_type": "stream", 
       "stream": "stdout", 
       "text": [
        "", 
        "3785,42 already crawled", 
        "3791,42 already crawled"
       ]
      }, 
      {
       "output_type": "stream", 
       "stream": "stdout", 
       "text": [
        "", 
        "3814,7179 already crawled", 
        "3818,8347 already crawled"
       ]
      }, 
      {
       "output_type": "stream", 
       "stream": "stdout", 
       "text": [
        "", 
        "3834,42 already crawled"
       ]
      }, 
      {
       "output_type": "stream", 
       "stream": "stdout", 
       "text": [
        "", 
        "3835,42 already crawled", 
        "3839,42 already crawled"
       ]
      }, 
      {
       "output_type": "stream", 
       "stream": "stdout", 
       "text": [
        "", 
        "3878,7179 already crawled", 
        "3891,4401359 already crawled"
       ]
      }, 
      {
       "output_type": "stream", 
       "stream": "stdout", 
       "text": [
        "", 
        "3913,42 already crawled", 
        "3938,42 already crawled"
       ]
      }, 
      {
       "output_type": "stream", 
       "stream": "stdout", 
       "text": [
        "", 
        "3938,18101654 already crawled", 
        "3964,8347 already crawled"
       ]
      }, 
      {
       "output_type": "stream", 
       "stream": "stdout", 
       "text": [
        "", 
        "3964,4600060 already crawled", 
        "3964,7413781 already crawled"
       ]
      }, 
      {
       "output_type": "stream", 
       "stream": "stdout", 
       "text": [
        "", 
        "3964,500876410 already crawled", 
        "3964,1115786309 already crawled"
       ]
      }, 
      {
       "output_type": "stream", 
       "stream": "stdout", 
       "text": [
        "", 
        "3964,1521540230 already crawled", 
        "3976,46300633 already crawled"
       ]
      }, 
      {
       "output_type": "stream", 
       "stream": "stdout", 
       "text": [
        "", 
        "3984,42 already crawled"
       ]
      }, 
      {
       "output_type": "stream", 
       "stream": "stdout", 
       "text": [
        "", 
        "4010,42 already crawled", 
        "4056,7179 already crawled"
       ]
      }, 
      {
       "output_type": "stream", 
       "stream": "stdout", 
       "text": [
        "", 
        "4056,618021 already crawled", 
        "4056,1410079 already crawled"
       ]
      }, 
      {
       "output_type": "stream", 
       "stream": "stdout", 
       "text": [
        "", 
        "4056,1704823 already crawled", 
        "4056,7413781 already crawled"
       ]
      }, 
      {
       "output_type": "stream", 
       "stream": "stdout", 
       "text": [
        "", 
        "4056,9901014 already crawled", 
        "4056,22906062 already crawled"
       ]
      }, 
      {
       "output_type": "stream", 
       "stream": "stdout", 
       "text": [
        "", 
        "4056,46300633 already crawled", 
        "4056,219701066 already crawled"
       ]
      }, 
      {
       "output_type": "stream", 
       "stream": "stdout", 
       "text": [
        "", 
        "4056,500876410 already crawled", 
        "4056,1115786309 already crawled"
       ]
      }, 
      {
       "output_type": "stream", 
       "stream": "stdout", 
       "text": [
        "", 
        "4056,1132560060 already crawled", 
        "4065,7179 already crawled"
       ]
      }, 
      {
       "output_type": "stream", 
       "stream": "stdout", 
       "text": [
        "", 
        "4066,42 already crawled"
       ]
      }, 
      {
       "output_type": "stream", 
       "stream": "stdout", 
       "text": [
        "", 
        "4071,8347 already crawled"
       ]
      }, 
      {
       "output_type": "stream", 
       "stream": "stdout", 
       "text": [
        "", 
        "4112,7179 already crawled", 
        "4133,42 already crawled"
       ]
      }, 
      {
       "output_type": "stream", 
       "stream": "stdout", 
       "text": [
        "", 
        "4134,7179 already crawled"
       ]
      }, 
      {
       "output_type": "stream", 
       "stream": "stdout", 
       "text": [
        "", 
        "4164,7179 already crawled"
       ]
      }, 
      {
       "output_type": "stream", 
       "stream": "stdout", 
       "text": [
        "", 
        "4177,42 already crawled", 
        "4179,7179 already crawled"
       ]
      }, 
      {
       "output_type": "stream", 
       "stream": "stdout", 
       "text": [
        "", 
        "4191,7179 already crawled", 
        "4243,42 already crawled"
       ]
      }, 
      {
       "output_type": "stream", 
       "stream": "stdout", 
       "text": [
        "", 
        "4244,42 already crawled"
       ]
      }, 
      {
       "output_type": "stream", 
       "stream": "stdout", 
       "text": [
        "", 
        "4258,42 already crawled", 
        "4276,42 already crawled"
       ]
      }, 
      {
       "output_type": "stream", 
       "stream": "stdout", 
       "text": [
        "", 
        "4302,1562550149 already crawled"
       ]
      }, 
      {
       "output_type": "stream", 
       "stream": "stdout", 
       "text": [
        "", 
        "4357,42 already crawled", 
        "4360,500454643 already crawled"
       ]
      }, 
      {
       "output_type": "stream", 
       "stream": "stdout", 
       "text": [
        "", 
        "4404,42 already crawled", 
        "4405,42 already crawled"
       ]
      }, 
      {
       "output_type": "stream", 
       "stream": "stdout", 
       "text": [
        "", 
        "4405,7179 already crawled", 
        "4415,7179 already crawled"
       ]
      }, 
      {
       "output_type": "stream", 
       "stream": "stdout", 
       "text": [
        "", 
        "4416,42 already crawled", 
        "4453,7179 already crawled"
       ]
      }, 
      {
       "output_type": "stream", 
       "stream": "stdout", 
       "text": [
        "", 
        "4475,42 already crawled", 
        "4494,7179 already crawled"
       ]
      }, 
      {
       "output_type": "stream", 
       "stream": "stdout", 
       "text": [
        "", 
        "4507,8347 already crawled", 
        "4522,4600060 already crawled"
       ]
      }, 
      {
       "output_type": "stream", 
       "stream": "stdout", 
       "text": [
        "", 
        "4522,22906062 already crawled", 
        "4530,7179 already crawled"
       ]
      }, 
      {
       "output_type": "stream", 
       "stream": "stdout", 
       "text": [
        "", 
        "4543,847945226 already crawled", 
        "4549,1615714116 already crawled"
       ]
      }, 
      {
       "output_type": "stream", 
       "stream": "stdout", 
       "text": [
        "", 
        "4557,42 already crawled", 
        "4617,42 already crawled"
       ]
      }, 
      {
       "output_type": "stream", 
       "stream": "stdout", 
       "text": [
        "", 
        "4643,42 already crawled", 
        "4677,42 already crawled"
       ]
      }, 
      {
       "output_type": "stream", 
       "stream": "stdout", 
       "text": [
        "", 
        "4712,8347 already crawled", 
        "4729,42 already crawled"
       ]
      }, 
      {
       "output_type": "stream", 
       "stream": "stdout", 
       "text": [
        "", 
        "4735,42 already crawled"
       ]
      }, 
      {
       "output_type": "stream", 
       "stream": "stdout", 
       "text": [
        "", 
        "4741,42 already crawled", 
        "4764,8347 already crawled"
       ]
      }, 
      {
       "output_type": "stream", 
       "stream": "stdout", 
       "text": [
        "", 
        "4770,42 already crawled", 
        "4773,8347 already crawled"
       ]
      }, 
      {
       "output_type": "stream", 
       "stream": "stdout", 
       "text": [
        "", 
        "4781,42 already crawled"
       ]
      }, 
      {
       "output_type": "stream", 
       "stream": "stdout", 
       "text": [
        "", 
        "4819,18101654 already crawled", 
        "4842,42 already crawled"
       ]
      }, 
      {
       "output_type": "stream", 
       "stream": "stdout", 
       "text": [
        "", 
        "4850,42 already crawled", 
        "4908,7179 already crawled"
       ]
      }, 
      {
       "output_type": "stream", 
       "stream": "stdout", 
       "text": [
        "", 
        "4947,7179 already crawled", 
        "4948,500876410 already crawled"
       ]
      }, 
      {
       "output_type": "stream", 
       "stream": "stdout", 
       "text": [
        "", 
        "5004,42 already crawled"
       ]
      }, 
      {
       "output_type": "stream", 
       "stream": "stdout", 
       "text": [
        "", 
        "5087,42 already crawled"
       ]
      }, 
      {
       "output_type": "stream", 
       "stream": "stdout", 
       "text": [
        "", 
        "5090,42 already crawled"
       ]
      }, 
      {
       "output_type": "stream", 
       "stream": "stdout", 
       "text": [
        "", 
        "5091,8347 already crawled", 
        "5097,8347 already crawled"
       ]
      }, 
      {
       "output_type": "stream", 
       "stream": "stdout", 
       "text": [
        "", 
        "5099,7810562 already crawled", 
        "5125,42 already crawled"
       ]
      }, 
      {
       "output_type": "stream", 
       "stream": "stdout", 
       "text": [
        "", 
        "5129,42 already crawled", 
        "5143,7413781 already crawled"
       ]
      }, 
      {
       "output_type": "stream", 
       "stream": "stdout", 
       "text": [
        "", 
        "5143,17000972 already crawled"
       ]
      }, 
      {
       "output_type": "stream", 
       "stream": "stdout", 
       "text": [
        "5143,20005442 already crawled", 
        "5143,506423507 already crawled", 
        "5145,42 already crawled"
       ]
      }, 
      {
       "output_type": "stream", 
       "stream": "stdout", 
       "text": [
        "", 
        "5150,8347 already crawled", 
        "5166,42 already crawled"
       ]
      }, 
      {
       "output_type": "stream", 
       "stream": "stdout", 
       "text": [
        "", 
        "5214,42 already crawled"
       ]
      }, 
      {
       "output_type": "stream", 
       "stream": "stdout", 
       "text": [
        "", 
        "5256,8904394 already crawled"
       ]
      }, 
      {
       "output_type": "stream", 
       "stream": "stdout", 
       "text": [
        "", 
        "5258,42 already crawled", 
        "5266,8347 already crawled"
       ]
      }, 
      {
       "output_type": "stream", 
       "stream": "stdout", 
       "text": [
        "", 
        "5281,22906062 already crawled"
       ]
      }, 
      {
       "output_type": "stream", 
       "stream": "stdout", 
       "text": [
        "", 
        "5281,46300633 already crawled"
       ]
      }, 
      {
       "output_type": "stream", 
       "stream": "stdout", 
       "text": [
        "", 
        "5289,7179 already crawled", 
        "5350,42 already crawled"
       ]
      }, 
      {
       "output_type": "stream", 
       "stream": "stdout", 
       "text": [
        "", 
        "5354,42 already crawled"
       ]
      }, 
      {
       "output_type": "stream", 
       "stream": "stdout", 
       "text": [
        "", 
        "5381,7179 already crawled"
       ]
      }, 
      {
       "output_type": "stream", 
       "stream": "stdout", 
       "text": [
        "", 
        "5418,42 already crawled", 
        "5489,8347 already crawled"
       ]
      }, 
      {
       "output_type": "stream", 
       "stream": "stdout", 
       "text": [
        "", 
        "5517,42 already crawled"
       ]
      }, 
      {
       "output_type": "stream", 
       "stream": "stdout", 
       "text": [
        "", 
        "5535,7179 already crawled", 
        "5539,4300275 already crawled"
       ]
      }, 
      {
       "output_type": "stream", 
       "stream": "stdout", 
       "text": [
        "", 
        "5546,7179 already crawled"
       ]
      }, 
      {
       "output_type": "stream", 
       "stream": "stdout", 
       "text": [
        "", 
        "5547,42 already crawled"
       ]
      }, 
      {
       "output_type": "stream", 
       "stream": "stdout", 
       "text": [
        "", 
        "5581,7179 already crawled", 
        "5581,9901014 already crawled"
       ]
      }, 
      {
       "output_type": "stream", 
       "stream": "stdout", 
       "text": [
        "", 
        "5594,7179 already crawled"
       ]
      }, 
      {
       "output_type": "stream", 
       "stream": "stdout", 
       "text": [
        "", 
        "5615,4600060 already crawled", 
        "5625,7179 already crawled"
       ]
      }, 
      {
       "output_type": "stream", 
       "stream": "stdout", 
       "text": [
        "", 
        "5634,7179 already crawled", 
        "5657,506423507 already crawled"
       ]
      }, 
      {
       "output_type": "stream", 
       "stream": "stdout", 
       "text": [
        "", 
        "5717,42 already crawled", 
        "5726,8347 already crawled"
       ]
      }, 
      {
       "output_type": "stream", 
       "stream": "stdout", 
       "text": [
        "", 
        "5741,7179 already crawled"
       ]
      }, 
      {
       "output_type": "stream", 
       "stream": "stdout", 
       "text": [
        "", 
        "5794,8347 already crawled"
       ]
      }, 
      {
       "output_type": "stream", 
       "stream": "stdout", 
       "text": [
        "", 
        "5818,42 already crawled"
       ]
      }, 
      {
       "output_type": "stream", 
       "stream": "stdout", 
       "text": [
        "", 
        "5838,42 already crawled", 
        "5839,46300633 already crawled"
       ]
      }, 
      {
       "output_type": "stream", 
       "stream": "stdout", 
       "text": [
        "", 
        "5875,7179 already crawled", 
        "5881,558988317 already crawled"
       ]
      }, 
      {
       "output_type": "stream", 
       "stream": "stdout", 
       "text": [
        "", 
        "5934,42 already crawled"
       ]
      }, 
      {
       "output_type": "stream", 
       "stream": "stdout", 
       "text": [
        "", 
        "5943,42 already crawled"
       ]
      }, 
      {
       "output_type": "stream", 
       "stream": "stdout", 
       "text": [
        "", 
        "5955,719641173 already crawled", 
        "6014,42 already crawled"
       ]
      }, 
      {
       "output_type": "stream", 
       "stream": "stdout", 
       "text": [
        "", 
        "6050,8347 already crawled", 
        "6050,1115786309 already crawled"
       ]
      }, 
      {
       "output_type": "stream", 
       "stream": "stdout", 
       "text": [
        "", 
        "6059,42 already crawled"
       ]
      }, 
      {
       "output_type": "stream", 
       "stream": "stdout", 
       "text": [
        "", 
        "6167,8347 already crawled"
       ]
      }, 
      {
       "output_type": "stream", 
       "stream": "stdout", 
       "text": [
        "", 
        "6188,8347 already crawled"
       ]
      }, 
      {
       "output_type": "stream", 
       "stream": "stdout", 
       "text": [
        "", 
        "6190,4600060 already crawled"
       ]
      }, 
      {
       "output_type": "stream", 
       "stream": "stdout", 
       "text": [
        "", 
        "6190,7413781 already crawled"
       ]
      }, 
      {
       "output_type": "stream", 
       "stream": "stdout", 
       "text": [
        "", 
        "6190,17000972 already crawled", 
        "6190,22906062 already crawled"
       ]
      }, 
      {
       "output_type": "stream", 
       "stream": "stdout", 
       "text": [
        "", 
        "6193,7179 already crawled"
       ]
      }, 
      {
       "output_type": "stream", 
       "stream": "stdout", 
       "text": [
        "", 
        "6212,42 already crawled", 
        "6212,46300633 already crawled"
       ]
      }, 
      {
       "output_type": "stream", 
       "stream": "stdout", 
       "text": [
        "", 
        "6212,219701066 already crawled", 
        "6235,42 already crawled"
       ]
      }, 
      {
       "output_type": "stream", 
       "stream": "stdout", 
       "text": [
        "", 
        "6250,42 already crawled", 
        "6254,42 already crawled"
       ]
      }, 
      {
       "output_type": "stream", 
       "stream": "stdout", 
       "text": [
        "", 
        "6254,7179 already crawled", 
        "6264,42 already crawled"
       ]
      }, 
      {
       "output_type": "stream", 
       "stream": "stdout", 
       "text": [
        "", 
        "6264,8347 already crawled", 
        "6309,42 already crawled"
       ]
      }, 
      {
       "output_type": "stream", 
       "stream": "stdout", 
       "text": [
        "", 
        "6371,100000124393252 already crawled", 
        "6381,42 already crawled"
       ]
      }, 
      {
       "output_type": "stream", 
       "stream": "stdout", 
       "text": [
        "", 
        "6392,42 already crawled"
       ]
      }, 
      {
       "output_type": "stream", 
       "stream": "stdout", 
       "text": [
        "", 
        "6403,42 already crawled", 
        "6434,8347 already crawled"
       ]
      }, 
      {
       "output_type": "stream", 
       "stream": "stdout", 
       "text": [
        "", 
        "6501,8347 already crawled", 
        "6523,42 already crawled"
       ]
      }, 
      {
       "output_type": "stream", 
       "stream": "stdout", 
       "text": [
        "", 
        "6539,42 already crawled", 
        "6541,42 already crawled"
       ]
      }, 
      {
       "output_type": "stream", 
       "stream": "stdout", 
       "text": [
        "", 
        "6544,7179 already crawled", 
        "6548,42 already crawled"
       ]
      }, 
      {
       "output_type": "stream", 
       "stream": "stdout", 
       "text": [
        "", 
        "6601,42 already crawled"
       ]
      }, 
      {
       "output_type": "stream", 
       "stream": "stdout", 
       "text": [
        "6633,42 already crawled", 
        "6704,42 already crawled", 
        "6735,42 already crawled"
       ]
      }, 
      {
       "output_type": "stream", 
       "stream": "stdout", 
       "text": [
        "", 
        "6749,8347 already crawled", 
        "6750,42 already crawled"
       ]
      }, 
      {
       "output_type": "stream", 
       "stream": "stdout", 
       "text": [
        "", 
        "6775,8347 already crawled", 
        "6785,8347 already crawled"
       ]
      }, 
      {
       "output_type": "stream", 
       "stream": "stdout", 
       "text": [
        "", 
        "6785,1419371893 already crawled", 
        "6793,42 already crawled"
       ]
      }, 
      {
       "output_type": "stream", 
       "stream": "stdout", 
       "text": [
        "", 
        "6795,7179 already crawled", 
        "6817,4600060 already crawled"
       ]
      }, 
      {
       "output_type": "stream", 
       "stream": "stdout", 
       "text": [
        "", 
        "6818,618021 already crawled", 
        "6818,46300633 already crawled"
       ]
      }, 
      {
       "output_type": "stream", 
       "stream": "stdout", 
       "text": [
        "", 
        "6818,1115786309 already crawled", 
        "6822,7179 already crawled"
       ]
      }, 
      {
       "output_type": "stream", 
       "stream": "stdout", 
       "text": [
        "", 
        "6829,42 already crawled", 
        "6841,42 already crawled"
       ]
      }, 
      {
       "output_type": "stream", 
       "stream": "stdout", 
       "text": [
        "", 
        "6841,8347 already crawled", 
        "6843,8347 already crawled"
       ]
      }, 
      {
       "output_type": "stream", 
       "stream": "stdout", 
       "text": [
        "", 
        "6849,42 already crawled", 
        "6849,8347 already crawled"
       ]
      }, 
      {
       "output_type": "stream", 
       "stream": "stdout", 
       "text": [
        "", 
        "6849,7413781 already crawled", 
        "6849,500454643 already crawled"
       ]
      }, 
      {
       "output_type": "stream", 
       "stream": "stdout", 
       "text": [
        "", 
        "6849,100001026531476 already crawled", 
        "6930,1432418217 already crawled"
       ]
      }, 
      {
       "output_type": "stream", 
       "stream": "stdout", 
       "text": [
        "", 
        "6931,1297239777 already crawled", 
        "6963,618021 already crawled"
       ]
      }, 
      {
       "output_type": "stream", 
       "stream": "stdout", 
       "text": [
        "", 
        "6963,500876410 already crawled", 
        "6963,100003222687678 already crawled"
       ]
      }, 
      {
       "output_type": "stream", 
       "stream": "stdout", 
       "text": [
        "", 
        "6968,42 already crawled", 
        "6978,42 already crawled"
       ]
      }, 
      {
       "output_type": "stream", 
       "stream": "stdout", 
       "text": [
        "", 
        "6978,1410079 already crawled", 
        "6978,4600060 already crawled"
       ]
      }, 
      {
       "output_type": "stream", 
       "stream": "stdout", 
       "text": [
        "", 
        "6978,5300890 already crawled", 
        "6978,7413781 already crawled"
       ]
      }, 
      {
       "output_type": "stream", 
       "stream": "stdout", 
       "text": [
        "", 
        "6978,7611242 already crawled", 
        "6978,15607328 already crawled"
       ]
      }, 
      {
       "output_type": "stream", 
       "stream": "stdout", 
       "text": [
        "", 
        "6978,500454643 already crawled", 
        "6978,506423507 already crawled"
       ]
      }, 
      {
       "output_type": "stream", 
       "stream": "stdout", 
       "text": [
        "", 
        "6998,1361314207 already crawled"
       ]
      }, 
      {
       "output_type": "stream", 
       "stream": "stdout", 
       "text": [
        "", 
        "7040,42 already crawled"
       ]
      }, 
      {
       "output_type": "stream", 
       "stream": "stdout", 
       "text": [
        "", 
        "7051,42 already crawled", 
        "7108,1417515771 already crawled"
       ]
      }, 
      {
       "output_type": "stream", 
       "stream": "stdout", 
       "text": [
        "", 
        "7179,7179 already crawled", 
        "7179,4600060 already crawled"
       ]
      }, 
      {
       "output_type": "stream", 
       "stream": "stdout", 
       "text": [
        "", 
        "7179,7810562 already crawled", 
        "7179,100002248884831 already crawled"
       ]
      }, 
      {
       "output_type": "stream", 
       "stream": "stdout", 
       "text": [
        "", 
        "7215,8347 already crawled", 
        "7239,7413781 already crawled"
       ]
      }, 
      {
       "output_type": "stream", 
       "stream": "stdout", 
       "text": [
        "", 
        "7243,42 already crawled", 
        "7243,1426894464 already crawled"
       ]
      }, 
      {
       "output_type": "stream", 
       "stream": "stdout", 
       "text": [
        "", 
        "7248,4401359 already crawled", 
        "7261,8347 already crawled"
       ]
      }, 
      {
       "output_type": "stream", 
       "stream": "stdout", 
       "text": [
        "", 
        "7289,8347 already crawled"
       ]
      }, 
      {
       "output_type": "stream", 
       "stream": "stdout", 
       "text": [
        "", 
        "7311,8347 already crawled"
       ]
      }, 
      {
       "output_type": "stream", 
       "stream": "stdout", 
       "text": [
        "", 
        "7403,8347 already crawled", 
        "7407,8347 already crawled"
       ]
      }, 
      {
       "output_type": "stream", 
       "stream": "stdout", 
       "text": [
        "", 
        "7432,8347 already crawled", 
        "7439,500454643 already crawled"
       ]
      }, 
      {
       "output_type": "stream", 
       "stream": "stdout", 
       "text": [
        "", 
        "7458,8347 already crawled", 
        "7514,4600060 already crawled"
       ]
      }, 
      {
       "output_type": "stream", 
       "stream": "stdout", 
       "text": [
        "", 
        "7514,100003985482232 already crawled"
       ]
      }, 
      {
       "output_type": "stream", 
       "stream": "stdout", 
       "text": [
        "", 
        "7557,8347 already crawled", 
        "7558,7810562 already crawled"
       ]
      }, 
      {
       "output_type": "stream", 
       "stream": "stdout", 
       "text": [
        "", 
        "7558,15607328 already crawled", 
        "7558,21423634 already crawled"
       ]
      }, 
      {
       "output_type": "stream", 
       "stream": "stdout", 
       "text": [
        "", 
        "7558,22906062 already crawled", 
        "7558,500060664 already crawled"
       ]
      }, 
      {
       "output_type": "stream", 
       "stream": "stdout", 
       "text": [
        "", 
        "7558,500111979 already crawled", 
        "7558,603481054 already crawled"
       ]
      }, 
      {
       "output_type": "stream", 
       "stream": "stdout", 
       "text": [
        "", 
        "7558,675189926 already crawled", 
        "7558,680859922 already crawled"
       ]
      }, 
      {
       "output_type": "stream", 
       "stream": "stdout", 
       "text": [
        "", 
        "7558,842223698 already crawled", 
        "7558,1019533522 already crawled"
       ]
      }, 
      {
       "output_type": "stream", 
       "stream": "stdout", 
       "text": [
        "", 
        "7558,1050885774 already crawled", 
        "7558,1172084713 already crawled"
       ]
      }, 
      {
       "output_type": "stream", 
       "stream": "stdout", 
       "text": [
        "", 
        "7586,7179 already crawled", 
        "7592,42 already crawled"
       ]
      }, 
      {
       "output_type": "stream", 
       "stream": "stdout", 
       "text": [
        "", 
        "7599,42 already crawled", 
        "7602,42 already crawled"
       ]
      }, 
      {
       "output_type": "stream", 
       "stream": "stdout", 
       "text": [
        "", 
        "7610,1239625169 already crawled", 
        "7622,8347 already crawled"
       ]
      }, 
      {
       "output_type": "stream", 
       "stream": "stdout", 
       "text": [
        "", 
        "7641,8347 already crawled", 
        "7692,7179 already crawled"
       ]
      }, 
      {
       "output_type": "stream", 
       "stream": "stdout", 
       "text": [
        "", 
        "7716,563117159 already crawled", 
        "7723,8347 already crawled"
       ]
      }, 
      {
       "output_type": "stream", 
       "stream": "stdout", 
       "text": [
        "", 
        "7724,500454643 already crawled", 
        "7740,42 already crawled"
       ]
      }, 
      {
       "output_type": "stream", 
       "stream": "stdout", 
       "text": [
        "", 
        "7765,42 already crawled", 
        "7828,7413781 already crawled"
       ]
      }, 
      {
       "output_type": "stream", 
       "stream": "stdout", 
       "text": [
        "", 
        "7858,42 already crawled", 
        "7858,7179 already crawled"
       ]
      }, 
      {
       "output_type": "stream", 
       "stream": "stdout", 
       "text": [
        "", 
        "7895,7179 already crawled"
       ]
      }, 
      {
       "output_type": "stream", 
       "stream": "stdout", 
       "text": [
        "", 
        "7952,8347 already crawled", 
        "7952,7810562 already crawled"
       ]
      }, 
      {
       "output_type": "stream", 
       "stream": "stdout", 
       "text": [
        "", 
        "8001,8347 already crawled", 
        "8012,42 already crawled"
       ]
      }, 
      {
       "output_type": "stream", 
       "stream": "stdout", 
       "text": [
        "", 
        "8017,8347 already crawled"
       ]
      }, 
      {
       "output_type": "stream", 
       "stream": "stdout", 
       "text": [
        "", 
        "8050,8347 already crawled", 
        "8055,42 already crawled"
       ]
      }, 
      {
       "output_type": "stream", 
       "stream": "stdout", 
       "text": [
        "", 
        "8085,42 already crawled"
       ]
      }, 
      {
       "output_type": "stream", 
       "stream": "stdout", 
       "text": [
        "", 
        "8087,7179 already crawled", 
        "8178,42 already crawled"
       ]
      }, 
      {
       "output_type": "stream", 
       "stream": "stdout", 
       "text": [
        "", 
        "8184,8347 already crawled", 
        "8188,657211108 already crawled"
       ]
      }, 
      {
       "output_type": "stream", 
       "stream": "stdout", 
       "text": [
        "", 
        "8347,8347 already crawled", 
        "8347,20005442 already crawled"
       ]
      }
     ], 
     "prompt_number": "*"
    }, 
    {
     "cell_type": "code", 
     "collapsed": false, 
     "input": [
      "fbid, ownerid = main_key.split(',')[0], main_key.split(',')[1]", 
      "fbid, ownerid"
     ], 
     "language": "python", 
     "outputs": [
      {
       "output_type": "pyout", 
       "prompt_number": 3, 
       "text": [
        "('20475', '1080578740')"
       ]
      }
     ], 
     "prompt_number": 3
    }, 
    {
     "cell_type": "code", 
     "collapsed": true, 
     "input": [
      "resp = json.loads(resp)", 
      "resp = json.loads(resp)"
     ], 
     "language": "python", 
     "outputs": [], 
     "prompt_number": 4
    }, 
    {
     "cell_type": "code", 
     "collapsed": true, 
     "input": [
      "# need a way to find the connectivity of the two people involved, namely how close the ownerid is to the fbid", 
      "# this will be accomplished with some variants of metrics algorithm", 
      "common_keys = []", 
      "for each in resp['feed']['data']:", 
      "    these_keys = each.keys()", 
      "    for key in these_keys:", 
      "        in_all = True", 
      "        for each_two in resp['feed']['data']:", 
      "            if key in each_two.keys():", 
      "                pass", 
      "            else:", 
      "                in_all = False", 
      "        if in_all is True and key not in common_keys:", 
      "            common_keys.append(key)"
     ], 
     "language": "python", 
     "outputs": [], 
     "prompt_number": 5
    }, 
    {
     "cell_type": "code", 
     "collapsed": false, 
     "input": [
      "common_keys"
     ], 
     "language": "python", 
     "outputs": [
      {
       "output_type": "pyout", 
       "prompt_number": 18, 
       "text": [
        "[u'updated_time', u'from', u'privacy', u'created_time', u'type', u'id']"
       ]
      }
     ], 
     "prompt_number": 18
    }, 
    {
     "cell_type": "code", 
     "collapsed": false, 
     "input": [
      "froms = [each['from']['id'] for each in resp['feed']['data']]"
     ], 
     "language": "python", 
     "outputs": [], 
     "prompt_number": 7
    }, 
    {
     "cell_type": "code", 
     "collapsed": false, 
     "input": [
      "froms"
     ], 
     "language": "python", 
     "outputs": [
      {
       "output_type": "pyout", 
       "prompt_number": 9, 
       "text": [
        "[u'20475',", 
        " u'20475',", 
        " u'20475',", 
        " u'20475',", 
        " u'10116577',", 
        " u'2214970',", 
        " u'8624644',", 
        " u'20475',", 
        " u'20475',", 
        " u'20475']"
       ]
      }
     ], 
     "prompt_number": 9
    }, 
    {
     "cell_type": "code", 
     "collapsed": false, 
     "input": [
      "for each in resp['feed']['data']:", 
      "    print each.keys()"
     ], 
     "language": "python", 
     "outputs": [
      {
       "output_type": "stream", 
       "stream": "stdout", 
       "text": [
        "[u'picture', u'story', u'from', u'privacy', u'updated_time', u'link', u'story_tags', u'created_time', u'type', u'id', u'status_type']", 
        "[u'story', u'from', u'privacy', u'actions', u'updated_time', u'story_tags', u'created_time', u'type', u'id', u'status_type']", 
        "[u'picture', u'story', u'from', u'privacy', u'updated_time', u'link', u'story_tags', u'created_time', u'type', u'id', u'status_type']", 
        "[u'picture', u'story', u'from', u'privacy', u'updated_time', u'link', u'story_tags', u'created_time', u'type', u'id', u'status_type']", 
        "[u'picture', u'from', u'name', u'caption', u'privacy', u'actions', u'updated_time', u'to', u'application', u'link', u'created_time', u'message', u'icon', u'type', u'id', u'description']", 
        "[u'from', u'privacy', u'actions', u'updated_time', u'to', u'created_time', u'message', u'type', u'id']", 
        "[u'from', u'privacy', u'actions', u'updated_time', u'to', u'created_time', u'message', u'type', u'id']", 
        "[u'story', u'from', u'privacy', u'updated_time', u'story_tags', u'created_time', u'type', u'id', u'status_type']", 
        "[u'story', u'from', u'privacy', u'updated_time', u'application', u'story_tags', u'created_time', u'type', u'id', u'status_type']", 
        "[u'story', u'from', u'privacy', u'actions', u'updated_time', u'story_tags', u'created_time', u'type', u'id', u'status_type']"
       ]
      }
     ], 
     "prompt_number": 10
    }, 
    {
     "cell_type": "code", 
     "collapsed": false, 
     "input": [
      "resp['feed']['data'][0]['picture']"
     ], 
     "language": "python", 
     "outputs": [], 
     "prompt_number": "*"
    }, 
    {
     "cell_type": "code", 
     "collapsed": true, 
     "input": [
      "# connectivity based on from", 
      "#cared_user = resp['feed']['data'][5]['from']['id']", 
      "cared_user = '1103340304'"
     ], 
     "language": "python", 
     "outputs": [], 
     "prompt_number": 52
    }, 
    {
     "cell_type": "code", 
     "collapsed": false, 
     "input": [
      "resp['feed']['data'][5]['from']"
     ], 
     "language": "python", 
     "outputs": [
      {
       "output_type": "pyout", 
       "prompt_number": 21, 
       "text": [
        "{u'id': u'2214970', u'name': u'Tessa Faye Mosier'}"
       ]
      }
     ], 
     "prompt_number": 21
    }, 
    {
     "cell_type": "code", 
     "collapsed": false, 
     "input": [
      "resp['feed']['data'][5]['message']"
     ], 
     "language": "python", 
     "outputs": [
      {
       "output_type": "pyout", 
       "prompt_number": 22, 
       "text": [
        "u'Have the best time, I love you, be safe, eat an apple every day, get to bed by threeeee.... <3'"
       ]
      }
     ], 
     "prompt_number": 22
    }, 
    {
     "cell_type": "code", 
     "collapsed": false, 
     "input": [
      "# get the posts that were posted from a specified user", 
      "posts_from = [i for i in resp['feed']['data'] if 'from' in i.keys() and '2214970' == i['from']['id']]"
     ], 
     "language": "python", 
     "outputs": [], 
     "prompt_number": 23
    }, 
    {
     "cell_type": "code", 
     "collapsed": false, 
     "input": [
      "# build a list of words that were use in posts from a specified user", 
      "words = []", 
      "for post in posts_from:", 
      "    if 'message' in post.keys():", 
      "        words += post['message'].split(' ')"
     ], 
     "language": "python", 
     "outputs": [], 
     "prompt_number": 25
    }, 
    {
     "cell_type": "code", 
     "collapsed": false, 
     "input": [
      "words"
     ], 
     "language": "python", 
     "outputs": [
      {
       "output_type": "pyout", 
       "prompt_number": 28, 
       "text": [
        "[u'Have',", 
        " u'the',", 
        " u'best',", 
        " u'time,',", 
        " u'I',", 
        " u'love',", 
        " u'you,',", 
        " u'be',", 
        " u'safe,',", 
        " u'eat',", 
        " u'an',", 
        " u'apple',", 
        " u'every',", 
        " u'day,',", 
        " u'get',", 
        " u'to',", 
        " u'bed',", 
        " u'by',", 
        " u'threeeee....',", 
        " u'<3']"
       ]
      }
     ], 
     "prompt_number": 28
    }, 
    {
     "cell_type": "code", 
     "collapsed": false, 
     "input": [
      "# build out the personalized data around our cared about user using ", 
      "# the personalized targeted criteria", 
      "", 
      "# posts from the cared about user period", 
      "posts_from = [i for i in resp['feed']['data'] if 'from' in i.keys() and cared_user == i['from']['id']]", 
      "# posts_from ", 
      "words_from_post = []", 
      "for post in posts_from:", 
      "    if 'message' in post.keys():", 
      "        words_from_post += post['message'].split(' ')", 
      "", 
      "# get all posts that the cared about user commented on", 
      "comments_from = [i for i in resp['feed']['data'] if 'comments' in i.keys() and i not in posts_from and cared_user in [i['comments']['data'][j]['from']['id'] for j in range(len(i['comments']['data']))]]", 
      "", 
      "# get all posts that the cared about user liked", 
      "likes_from = [i for i in resp['feed']['data'] if 'likes' in i.keys() and cared_user in [i['likes']['data'][j]['from']['id'] for j in range(len(i['likes']['data']))]]", 
      "", 
      "# get all posts that the user is tagged in in a story", 
      "stories_with = [i for i in resp['feed']['data'] if 'story_tags' in i.keys() and cared_user in [i['story_tags'][key][j]['id'] for key in i['story_tags'].keys() for j in range(len(i['story_tags'][key]))]]", 
      "# story tags post with the cared about user in it and analysis on it", 
      "story_words = []", 
      "for post in stories_with:", 
      "    story_words += post['story'].split(' ')"
     ], 
     "language": "python", 
     "outputs": [], 
     "prompt_number": 53
    }, 
    {
     "cell_type": "code", 
     "collapsed": false, 
     "input": [
      "stories_with"
     ], 
     "language": "python", 
     "outputs": [
      {
       "output_type": "pyout", 
       "prompt_number": 54, 
       "text": [
        "[{u'created_time': u'2013-08-14T10:24:51+0000',", 
        "  u'from': {u'id': u'20475', u'name': u'Barry Shafrin'},", 
        "  u'id': u'20475_10100924543618971',", 
        "  u'link': u'https://www.facebook.com/maxrdanesh?fref=nf_fr',", 
        "  u'picture': u'https://fbcdn-profile-a.akamaihd.net/hprofile-ak-prn2/202917_1818380_1989044314_q.jpg',", 
        "  u'privacy': {u'value': u''},", 
        "  u'status_type': u'approved_friend',", 
        "  u'story': u'Barry Shafrin is now friends with Max Danesh and 3 other people.',", 
        "  u'story_tags': {u'0': [{u'id': u'20475',", 
        "     u'length': 13,", 
        "     u'name': u'Barry Shafrin',", 
        "     u'offset': 0,", 
        "     u'type': u'user'}],", 
        "   u'34': [{u'id': u'1818380',", 
        "     u'length': 10,", 
        "     u'name': u'Max Danesh',", 
        "     u'offset': 34,", 
        "     u'type': u'user'}],", 
        "   u'49': [{u'id': u'1103340304',", 
        "     u'length': 14,", 
        "     u'name': u'Sam Belabin',", 
        "     u'offset': 49,", 
        "     u'type': u'user'},", 
        "    {u'id': u'1227210742',", 
        "     u'length': 14,", 
        "     u'name': u'Anna Piper',", 
        "     u'offset': 49,", 
        "     u'type': u'user'},", 
        "    {u'id': u'1499269409',", 
        "     u'length': 14,", 
        "     u'name': u'Jennafer Ashley',", 
        "     u'offset': 49,", 
        "     u'type': u'user'}]},", 
        "  u'type': u'link',", 
        "  u'updated_time': u'2013-08-14T10:24:51+0000'}]"
       ]
      }
     ], 
     "prompt_number": 54
    }, 
    {
     "cell_type": "code", 
     "collapsed": false, 
     "input": [
      "# story tags post with the cared about user in it and analysis on it", 
      "story_words = []", 
      "for post in stories_with:", 
      "    story_words += post['story'].split(' ')", 
      "    "
     ], 
     "language": "python", 
     "outputs": [], 
     "prompt_number": 55
    }, 
    {
     "cell_type": "code", 
     "collapsed": false, 
     "input": [
      "froms"
     ], 
     "language": "python", 
     "outputs": [
      {
       "output_type": "pyout", 
       "prompt_number": 55, 
       "text": [
        "[{u'id': u'1511370177', u'name': u'Lawrence Sweatman'},", 
        " {u'id': u'1574587188', u'name': u'Stacy Dennery'},", 
        " {u'id': u'100416', u'name': u'Aaron Rosenberg'},", 
        " {u'id': u'100416', u'name': u'Aaron Rosenberg'},", 
        " {u'id': u'100416', u'name': u'Aaron Rosenberg'},", 
        " {u'id': u'100416', u'name': u'Aaron Rosenberg'},", 
        " {u'id': u'100416', u'name': u'Aaron Rosenberg'},", 
        " {u'id': u'100416', u'name': u'Aaron Rosenberg'},", 
        " {u'id': u'100416', u'name': u'Aaron Rosenberg'},", 
        " {u'id': u'100416', u'name': u'Aaron Rosenberg'},", 
        " {u'id': u'100416', u'name': u'Aaron Rosenberg'},", 
        " {u'id': u'100416', u'name': u'Aaron Rosenberg'}]"
       ]
      }
     ], 
     "prompt_number": 55
    }, 
    {
     "cell_type": "code", 
     "collapsed": false, 
     "input": [
      "messages"
     ], 
     "language": "python", 
     "outputs": [
      {
       "output_type": "pyout", 
       "prompt_number": 61, 
       "text": [
        "[(u'1511370177',", 
        "  u'Help us dial New Jersey forward.  Adam Horgan Kasey Hall Grant Maloney Anne Sexton Duncan Olsen Dana Roth Maxx Rachael Klarman Debra Cohen Aaron Rosenberg'),", 
        " (u'1574587188',", 
        "  u\"Not sure if you'll have time for this in the fall, but thought I'd share.\"),", 
        " (u'100416',", 
        "  u'\\u201cPeople in other disciplines think we\\u2019re just thugs,\\u201d said Louise Antony, a philosopher at the University of Massachusetts, Amherst. http://mobile.nytimes.com/2013/08/03/arts/colin-mcginn-philosopher-to-leave-his-post.html?from=homepage')]"
       ]
      }
     ], 
     "prompt_number": 61
    }, 
    {
     "cell_type": "code", 
     "collapsed": true, 
     "input": [
      "cared = u'1570110103'"
     ], 
     "language": "python", 
     "outputs": [], 
     "prompt_number": 75
    }, 
    {
     "cell_type": "code", 
     "collapsed": true, 
     "input": [
      "message_tags = [i for i in resp['feed']['data'] if 'message_tags' in i.keys() and cared in [i['message_tags'][key][x]['id'] for key in i['message_tags'].keys() for x in range(len(i['message_tags'][key]))]]"
     ], 
     "language": "python", 
     "outputs": [], 
     "prompt_number": 76
    }, 
    {
     "cell_type": "code", 
     "collapsed": false, 
     "input": [
      "message_tags"
     ], 
     "language": "python", 
     "outputs": [
      {
       "output_type": "pyout", 
       "prompt_number": 77, 
       "text": [
        "[{u'actions': [{u'link': u'https://www.facebook.com/100416/posts/10100865980050832',", 
        "    u'name': u'Comment'}],", 
        "  u'caption': u'With less than 24 hours until the polls open, I need your help to contact NJ voters. No matter where you live, you can join in our virtual phone banks. Sign up at http://action.corybooker.com. Thank you.',", 
        "  u'created_time': u'2013-08-12T18:15:47+0000',", 
        "  u'from': {u'id': u'1511370177', u'name': u'Lawrence Sweatman'},", 
        "  u'icon': u'https://fbstatic-a.akamaihd.net/rsrc.php/v2/yD/r/aS8ecmYRys0.gif',", 
        "  u'id': u'100416_10100865980050832',", 
        "  u'link': u'https://www.facebook.com/photo.php?fbid=10151890706672228&set=a.115558592227.120345.36872302227&type=1',", 
        "  u'message': u'Help us dial New Jersey forward.  Adam Horgan Kasey Hall Grant Maloney Anne Sexton Duncan Olsen Dana Roth Maxx Rachael Klarman Debra Cohen Aaron Rosenberg',", 
        "  u'message_tags': {u'106': [{u'id': u'1498533170',", 
        "     u'length': 4,", 
        "     u'name': u'Maxx',", 
        "     u'offset': 106,", 
        "     u'type': u'user'}],", 
        "   u'111': [{u'id': u'1563690103',", 
        "     u'length': 15,", 
        "     u'name': u'Rachael Klarman',", 
        "     u'offset': 111,", 
        "     u'type': u'user'}],", 
        "   u'127': [{u'id': u'1567350342',", 
        "     u'length': 11,", 
        "     u'name': u'Debra Cohen',", 
        "     u'offset': 127,", 
        "     u'type': u'user'}],", 
        "   u'139': [{u'id': u'100416',", 
        "     u'length': 15,", 
        "     u'name': u'Aaron Rosenberg',", 
        "     u'offset': 139,", 
        "     u'type': u'user'}],", 
        "   u'34': [{u'id': u'501273910',", 
        "     u'length': 11,", 
        "     u'name': u'Adam Horgan',", 
        "     u'offset': 34,", 
        "     u'type': u'user'}],", 
        "   u'46': [{u'id': u'1570110103',", 
        "     u'length': 10,", 
        "     u'name': u'Kasey Hall',", 
        "     u'offset': 46,", 
        "     u'type': u'user'}],", 
        "   u'57': [{u'id': u'646215982',", 
        "     u'length': 13,", 
        "     u'name': u'Grant Maloney',", 
        "     u'offset': 57,", 
        "     u'type': u'user'}],", 
        "   u'71': [{u'id': u'1123410079',", 
        "     u'length': 11,", 
        "     u'name': u'Anne Sexton',", 
        "     u'offset': 71,", 
        "     u'type': u'user'}],", 
        "   u'83': [{u'id': u'1511370154',", 
        "     u'length': 12,", 
        "     u'name': u'Duncan Olsen',", 
        "     u'offset': 83,", 
        "     u'type': u'user'}],", 
        "   u'96': [{u'id': u'1501284',", 
        "     u'length': 9,", 
        "     u'name': u'Dana Roth',", 
        "     u'offset': 96,", 
        "     u'type': u'user'}]},", 
        "  u'name': u'Timeline Photos',", 
        "  u'object_id': u'10151890706672228',", 
        "  u'picture': u'https://fbcdn-photos-f-a.akamaihd.net/hphotos-ak-prn2/1098443_10151890706672228_590254496_s.jpg',", 
        "  u'privacy': {u'value': u''},", 
        "  u'properties': [{u'href': u'https://www.facebook.com/corybooker?ref=stream',", 
        "    u'name': u'By',", 
        "    u'text': u'Cory Booker'}],", 
        "  u'to': {u'data': [{u'id': u'501273910', u'name': u'Adam Horgan'},", 
        "    {u'id': u'1570110103', u'name': u'Kasey Hall'},", 
        "    {u'id': u'646215982', u'name': u'Grant Maloney'},", 
        "    {u'id': u'1123410079', u'name': u'Anne Sexton'},", 
        "    {u'id': u'1511370154', u'name': u'Duncan Olsen'},", 
        "    {u'id': u'1501284', u'name': u'Dana Roth'},", 
        "    {u'id': u'1498533170', u'name': u'Maximillian Mathis Boykin'},", 
        "    {u'id': u'1563690103', u'name': u'Rachael Klarman'},", 
        "    {u'id': u'1567350342', u'name': u'Debra Cohen'},", 
        "    {u'id': u'100416', u'name': u'Aaron Rosenberg'}]},", 
        "  u'type': u'photo',", 
        "  u'updated_time': u'2013-08-12T18:15:47+0000'}]"
       ]
      }
     ], 
     "prompt_number": 77
    }, 
    {
     "cell_type": "code", 
     "collapsed": true, 
     "input": [], 
     "language": "python", 
     "outputs": []
    }
   ]
  }
 ]
}