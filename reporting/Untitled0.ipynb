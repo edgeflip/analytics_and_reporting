{
 "metadata": {
  "name": "Untitled0"
 }, 
 "nbformat": 2, 
 "worksheets": [
  {
   "cells": [
    {
     "cell_type": "code", 
     "collapsed": true, 
     "input": [
      "from generate_report import get_campaign_stuff_for_client", 
      "from generate_report import test_new_query", 
      "import csv", 
      "import json"
     ], 
     "language": "python", 
     "outputs": [], 
     "prompt_number": 40
    }, 
    {
     "cell_type": "code", 
     "collapsed": false, 
     "input": [
      "def couple_data_with_info(client_id):", 
      "    _all = test_new_query()", 
      "    campaign_stuff = get_campaign_stuff_for_client(client_id)", 
      "    campaigns = {\"%s\" % i[1]: [int(w) for w in [e for e in _all if e[0] == i[0]][0]] for i in campaign_stuff}", 
      "    return campaigns", 
      "    "
     ], 
     "language": "python", 
     "outputs": [], 
     "prompt_number": 64
    }, 
    {
     "cell_type": "code", 
     "collapsed": false, 
     "input": [
      "# for the daemon writer.....", 
      "", 
      "def write_and_consume():", 
      "    from generate_data_for_export_original import tool", 
      "    all_clients = tool.query(\"select distinct client_id from campaigns\")", 
      "    for each_client in all_clients:", 
      "        client = each_client[0]", 
      "        clients_data = couple_data_with_info(client)", 
      "        clients_data_str = json.dumps(clients_data)", 
      "        _file = 'client_{0}_data.txt'.format(client)", 
      "        f = open(_file,'w')", 
      "        f.write(clients_data_str)", 
      "        f.close()", 
      "        #writer = csv.writer(open(_file,'wb'),delimiter=',')", 
      "        #writer.writerow([clients_data])", 
      "        #del writer", 
      "    print \"data written\""
     ], 
     "language": "python", 
     "outputs": [], 
     "prompt_number": 73
    }, 
    {
     "cell_type": "code", 
     "collapsed": false, 
     "input": [
      "# app stuff", 
      "def consume_data(client_id):", 
      "    f = open('client_{0}_data.txt'.format(client_id), 'r')", 
      "    f1 = f.read()", 
      "    f.close()", 
      "    f1 = json.loads(f1)", 
      "    return f1"
     ], 
     "language": "python", 
     "outputs": [], 
     "prompt_number": 75
    }, 
    {
     "cell_type": "code", 
     "collapsed": false, 
     "input": [
      "va = consume_data(2)"
     ], 
     "language": "python", 
     "outputs": [], 
     "prompt_number": 77
    }, 
    {
     "cell_type": "code", 
     "collapsed": false, 
     "input": [
      "va.keys()"
     ], 
     "language": "python", 
     "outputs": [
      {
       "output_type": "pyout", 
       "prompt_number": 78, 
       "text": [
        "[u'20130621 New McAuliffe Auth ver. D',", 
        " u'20130621 New McAuliffe Auth ver. B',", 
        " u'20130621 New McAuliffe Auth ver. C',", 
        " u'20130621 New McAuliffe Auth ver. A',", 
        " u'20130624 McAuliffe Auth Vol',", 
        " u'20130719 VA DGA Middle Age Women in Cities',", 
        " u'Auth Campaign for McAuliffe (ver. A)',", 
        " u'20130624 McAuliffe Auth Thank You',", 
        " u'20130719 VA Violence Against Women Act',", 
        " u'20130708 VA Middle Age Women in Cities - Main Campaign',", 
        " u'Auth Campaign for McAuliffe (ver. B)']"
       ]
      }
     ], 
     "prompt_number": 78
    }, 
    {
     "cell_type": "code", 
     "collapsed": false, 
     "input": [
      "va['20130624 McAuliffe Auth Vol']"
     ], 
     "language": "python", 
     "outputs": [
      {
       "output_type": "pyout", 
       "prompt_number": 79, 
       "text": [
        "[11, 9, 5, 4, 2, 0, 0, 0, 0, 0]"
       ]
      }
     ], 
     "prompt_number": 79
    }, 
    {
     "cell_type": "code", 
     "collapsed": false, 
     "input": [
      "for key in va.keys():", 
      "    print va[key]"
     ], 
     "language": "python", 
     "outputs": [
      {
       "output_type": "stream", 
       "stream": "stdout", 
       "text": [
        "[9, 334, 206, 119, 103, 0, 0, 0, 0, 0]", 
        "[7, 393, 244, 136, 95, 0, 0, 0, 0, 0]", 
        "[8, 494, 293, 144, 128, 0, 0, 0, 0, 0]", 
        "[6, 406, 219, 120, 101, 0, 0, 0, 0, 0]", 
        "[11, 9, 5, 4, 2, 0, 0, 0, 0, 0]", 
        "[25, 2954, 298, 116, 83, 71, 27, 109, 98, 19]", 
        "[4, 27, 9, 8, 4, 0, 0, 0, 0, 0]", 
        "[10, 167, 87, 46, 33, 0, 0, 0, 0, 0]", 
        "[20, 3092, 1646, 721, 631, 555, 213, 969, 937, 147]", 
        "[16, 2065, 903, 475, 326, 244, 96, 380, 365, 67]", 
        "[5, 12, 6, 5, 2, 0, 0, 0, 0, 0]"
       ]
      }
     ], 
     "prompt_number": 80
    }, 
    {
     "cell_type": "code", 
     "collapsed": false, 
     "input": [
      "_str"
     ], 
     "language": "python", 
     "outputs": [
      {
       "output_type": "pyout", 
       "prompt_number": 70, 
       "text": [
        "'{\"20130621 New McAuliffe Auth ver. D\": [9, 334, 206, 119, 103, 0, 0, 0, 0, 0], \"20130621 New McAuliffe Auth ver. B\": [7, 393, 244, 136, 95, 0, 0, 0, 0, 0], \"20130621 New McAuliffe Auth ver. C\": [8, 494, 293, 144, 128, 0, 0, 0, 0, 0], \"20130621 New McAuliffe Auth ver. A\": [6, 406, 219, 120, 101, 0, 0, 0, 0, 0], \"20130624 McAuliffe Auth Vol\": [11, 9, 5, 4, 2, 0, 0, 0, 0, 0], \"20130719 VA DGA Middle Age Women in Cities\": [25, 2954, 298, 116, 83, 71, 27, 109, 98, 19], \"Auth Campaign for McAuliffe (ver. A)\": [4, 27, 9, 8, 4, 0, 0, 0, 0, 0], \"20130624 McAuliffe Auth Thank You\": [10, 167, 87, 46, 33, 0, 0, 0, 0, 0], \"20130719 VA Violence Against Women Act\": [20, 3092, 1646, 721, 631, 555, 213, 969, 937, 147], \"20130708 VA Middle Age Women in Cities - Main Campaign\": [16, 2065, 903, 475, 326, 244, 96, 380, 365, 67], \"Auth Campaign for McAuliffe (ver. B)\": [5, 12, 6, 5, 2, 0, 0, 0, 0, 0]}'"
       ]
      }
     ], 
     "prompt_number": 70
    }, 
    {
     "cell_type": "code", 
     "collapsed": true, 
     "input": [
      "new = json.loads(_str)"
     ], 
     "language": "python", 
     "outputs": [], 
     "prompt_number": 71
    }, 
    {
     "cell_type": "code", 
     "collapsed": false, 
     "input": [
      "new"
     ], 
     "language": "python", 
     "outputs": [
      {
       "output_type": "pyout", 
       "prompt_number": 72, 
       "text": [
        "{u'20130621 New McAuliffe Auth ver. A': [6, 406, 219, 120, 101, 0, 0, 0, 0, 0],", 
        " u'20130621 New McAuliffe Auth ver. B': [7, 393, 244, 136, 95, 0, 0, 0, 0, 0],", 
        " u'20130621 New McAuliffe Auth ver. C': [8, 494, 293, 144, 128, 0, 0, 0, 0, 0],", 
        " u'20130621 New McAuliffe Auth ver. D': [9, 334, 206, 119, 103, 0, 0, 0, 0, 0],", 
        " u'20130624 McAuliffe Auth Thank You': [10, 167, 87, 46, 33, 0, 0, 0, 0, 0],", 
        " u'20130624 McAuliffe Auth Vol': [11, 9, 5, 4, 2, 0, 0, 0, 0, 0],", 
        " u'20130708 VA Middle Age Women in Cities - Main Campaign': [16,", 
        "  2065,", 
        "  903,", 
        "  475,", 
        "  326,", 
        "  244,", 
        "  96,", 
        "  380,", 
        "  365,", 
        "  67],", 
        " u'20130719 VA DGA Middle Age Women in Cities': [25,", 
        "  2954,", 
        "  298,", 
        "  116,", 
        "  83,", 
        "  71,", 
        "  27,", 
        "  109,", 
        "  98,", 
        "  19],", 
        " u'20130719 VA Violence Against Women Act': [20,", 
        "  3092,", 
        "  1646,", 
        "  721,", 
        "  631,", 
        "  555,", 
        "  213,", 
        "  969,", 
        "  937,", 
        "  147],", 
        " u'Auth Campaign for McAuliffe (ver. A)': [4, 27, 9, 8, 4, 0, 0, 0, 0, 0],", 
        " u'Auth Campaign for McAuliffe (ver. B)': [5, 12, 6, 5, 2, 0, 0, 0, 0, 0]}"
       ]
      }
     ], 
     "prompt_number": 72
    }, 
    {
     "cell_type": "code", 
     "collapsed": true, 
     "input": [], 
     "language": "python", 
     "outputs": []
    }
   ]
  }
 ]
}